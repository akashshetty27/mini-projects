{
 "cells": [
  {
   "cell_type": "markdown",
   "metadata": {},
   "source": [
    "# <center>PGP Data Science Engineering</center>\n",
    "## <center>Introduction to Programming – Mini Project:</center>\n"
   ]
  },
  {
   "cell_type": "markdown",
   "metadata": {},
   "source": [
    "### Problem 1:\n",
    "\n",
    "1. Write a program to calculate area of shapes. Your program should be capable of calculating the area of a square, rectangle, triangle and a circle. The user should be presented with options to select the shape. Based on which shape is chosed by the user, the program should ask for the appropriate input and print the resulting area on the screen.\n",
    "\n",
    "When the program is run, the screen should display something like this:\n",
    "\n",
    "**Which shape would you like to calculate the area for? Please enter the option number-**<br>\n",
    "**1. Square**<br>\n",
    "**2. Rectangle**<br>\n",
    "**3. Triangle**<br>\n",
    "**4. Circle**<br>\n",
    "**Enter Option: _**\n",
    "\n",
    "Say the user enters the option 1.\n",
    "\n",
    "**Please enter the length of a side: _**\n",
    "\n",
    "If the user enters a value of 5. The output should be:\n",
    "\n",
    "**The area of the square is 25**\n",
    "\n",
    "This program should indicate that the input is invalid if the user enters a character instead of a number as input. For instance if the user enters a value of ‘a’ instead of 5 in the previous example the program should prompt:\n",
    "\n",
    "**Invalid input, please enter a number: _**\n"
   ]
  },
  {
   "cell_type": "code",
   "execution_count": 2,
   "metadata": {
    "scrolled": true
   },
   "outputs": [
    {
     "name": "stdout",
     "output_type": "stream",
     "text": [
      "Which shape would you like to calculate the area for? Please enter the option number-\n",
      "1. Square\n",
      "2. Rectangle\n",
      "3. Triangle\n",
      "4. Circle\n",
      "Enter Option: 5\n",
      "Enter a valid option\n"
     ]
    }
   ],
   "source": [
    "import math\n",
    "Area_of = (input('''Which shape would you like to calculate the area for? Please enter the option number-\n",
    "1. Square\n",
    "2. Rectangle\n",
    "3. Triangle\n",
    "4. Circle\n",
    "Enter Option: '''))\n",
    "if Area_of == chr(48):\n",
    "    print('Enter a valid option')\n",
    "if Area_of >= chr(65) and Area_of <= chr(122):\n",
    "    print('Enter a valid option')\n",
    "if Area_of >= chr(53) and Area_of <= chr(57):\n",
    "    print('Enter a valid option')\n",
    "    \n",
    "if Area_of == '1':\n",
    "    side = input('Enter length of the side in cm: ')\n",
    "    if side >= chr(65) and side <= chr(122):\n",
    "        print('Invalid input, Please enter a number')\n",
    "    elif float(side) <= 0:\n",
    "        print('The variable side should be positive')\n",
    "    elif float(side) > 0:\n",
    "        print('Area of square is',round(float(side)**2,2),'cm\\u00b2')\n",
    "    \n",
    "            \n",
    "if Area_of == '2':\n",
    "    length = input('Enter length of the Rectangle in cm: ')\n",
    "    width = input('Enter width of the Rectangle in cm: ')\n",
    "    if (length >= chr(65) and length <= chr(122)) or (width > chr(65) and width < chr(122)):\n",
    "        print('Invalid input, Please enter a number')\n",
    "    elif float(length) <= 0 or float(width) <=0:\n",
    "        print('The variable side should be positive')\n",
    "    elif float(length) > 0 and float(width) > 0:\n",
    "        Area_of_rectangle = round(float(length),2)*round(float(width),2)\n",
    "        print('Area of Rectangle is',Area_of_rectangle,'cm\\u00b2')\n",
    "        \n",
    "        \n",
    "if Area_of == '3':\n",
    "    base = input('Enter base of the Triangle in cm: ')\n",
    "    height = input('Enter height of the Triangle in cm: ')\n",
    "    if (base >= chr(65) and base <= chr(122)) or (height > chr(65) and height < chr(122)):\n",
    "        print('Invalid input, Please enter a number')\n",
    "    elif float(base) <= 0 or float(height) <=0:\n",
    "        print('The variable side should be positive')\n",
    "    elif float(base) > 0 and float(height) > 0:\n",
    "        Area_of_triangle = round(float(base),2)*round(float(height)/2,2)\n",
    "        print('Area of Triangle is',Area_of_triangle,'cm\\u00b2')\n",
    "        \n",
    "        \n",
    "        \n",
    "if Area_of == '4':\n",
    "    radius = input('Enter radius of Circle in cm: ')\n",
    "    if (radius >= chr(65) and radius <= chr(122)):\n",
    "        print('Invalid input, Please enter a number')\n",
    "    elif float(radius) <= 0:\n",
    "        print('The variable side should be positive')\n",
    "    elif float(radius) > 0:\n",
    "        Area_of_circle = round(float(radius)**2*math.pi,2)\n",
    "        print('Area of Circle is',Area_of_circle,'cm\\u00b2')\n",
    "       "
   ]
  },
  {
   "cell_type": "markdown",
   "metadata": {},
   "source": [
    "### Problem 2:\n",
    "\n",
    "Create and encrypter in python based on the ceaser cipher. It is a substitution cipher where each character of the original text is shifted a certain number characters in the alphabet. Write a function that would require 2 arguments – the input text to be encrypted and a key. For eg: Given the input text ‘hello’ and the key 3, the resulting encryted text would be ‘khoor’. Here you can see that every character in the string hello is shifted by 3 characters. ‘h’ has shifted to ‘k’, ‘e’ has shifted to ‘h’ and so on. If a key of 5 were used, the resulting string would be ‘mjqqt’. This function should be capable of ignoring any characters which are not alphabets. Th2 character ‘z’ entered b\n",
    "y the user for a key of 3 would result in ‘c’.\n",
    "\n",
    "Usage:<br>\n",
    "**encrypt(‘hello world!’, 3)**<br>\n",
    "**‘khoor zruog!’**\n",
    "\n",
    "Similarly create decrypter which can decode the encryted text when provided the input text and key\n",
    "\n",
    "Usage:<br>\n",
    "**decrypt(‘khoor zruog!’, 3)**<br>\n",
    "**‘hello world!’**\n",
    "\n",
    "For the sake of simplicity you can assume that input solely consists of lowercase alphabets, spaces and punctuation symbols. Numbers in the input text would also be ignored similar to symbols."
   ]
  },
  {
   "cell_type": "code",
   "execution_count": 17,
   "metadata": {
    "scrolled": false
   },
   "outputs": [
    {
     "name": "stdout",
     "output_type": "stream",
     "text": [
      "hello world!"
     ]
    }
   ],
   "source": [
    "decrypt('khoor zruog!',3)"
   ]
  },
  {
   "cell_type": "code",
   "execution_count": 3,
   "metadata": {},
   "outputs": [],
   "source": [
    "def encrypt(code,key):\n",
    "    splchr = ' !@#$%^&*_-+=<>,./?'\n",
    "    for i in code:\n",
    "        if i in splchr:\n",
    "            print(i,end='')\n",
    "        else:\n",
    "            o = ord(i)\n",
    "            p = o + key\n",
    "            if p > 122:\n",
    "                p = o-26+key\n",
    "                c= chr(p)\n",
    "                print(c,end='')\n",
    "            else:\n",
    "                c= chr(p)\n",
    "                print(c,end='')"
   ]
  },
  {
   "cell_type": "code",
   "execution_count": 4,
   "metadata": {},
   "outputs": [],
   "source": [
    "def decrypt(code,key):\n",
    "    splchr = ' !@#$%^&*_-+=<>,./?'\n",
    "    for i in code:\n",
    "        if i in splchr:\n",
    "            print(i,end='')\n",
    "        else:\n",
    "            o = ord(i)\n",
    "            p = o - key\n",
    "            if p < 97:\n",
    "                p = o+26-key\n",
    "                c= chr(p)\n",
    "                print(c,end='')\n",
    "            else:\n",
    "                c= chr(p)\n",
    "                print(c,end='')"
   ]
  },
  {
   "cell_type": "code",
   "execution_count": 5,
   "metadata": {},
   "outputs": [
    {
     "name": "stdout",
     "output_type": "stream",
     "text": [
      "xmfwfs"
     ]
    }
   ],
   "source": [
    "encrypt('sharan',5)"
   ]
  }
 ],
 "metadata": {
  "kernelspec": {
   "display_name": "Python 3",
   "language": "python",
   "name": "python3"
  },
  "language_info": {
   "codemirror_mode": {
    "name": "ipython",
    "version": 3
   },
   "file_extension": ".py",
   "mimetype": "text/x-python",
   "name": "python",
   "nbconvert_exporter": "python",
   "pygments_lexer": "ipython3",
   "version": "3.7.6"
  }
 },
 "nbformat": 4,
 "nbformat_minor": 2
}
